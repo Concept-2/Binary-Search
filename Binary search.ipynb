{
 "cells": [
  {
   "cell_type": "code",
   "execution_count": 9,
   "metadata": {},
   "outputs": [
    {
     "name": "stdout",
     "output_type": "stream",
     "text": [
      "False\n"
     ]
    }
   ],
   "source": [
    "import random\n",
    "numbers = [random.randint(0, 20) for i in range(15)]\n",
    "numbers.sort()\n",
    "\n",
    "def binarySearch(numberList, target):\n",
    "    midNo = len(numberList) // 2\n",
    "    if numberList != []:\n",
    "        if numberList[midNo] == target:\n",
    "            return True\n",
    "        elif numberList[midNo] > target:\n",
    "            if binarySearch(numberList[:midNo], target):\n",
    "                return True\n",
    "        elif numberList[midNo] < target:\n",
    "            if binarySearch(numberList[midNo + 1:], target):\n",
    "                return True\n",
    "    return False\n",
    "\n",
    "print (binarySearch(numbers, 2))"
   ]
  },
  {
   "cell_type": "code",
   "execution_count": null,
   "metadata": {},
   "outputs": [],
   "source": []
  }
 ],
 "metadata": {
  "kernelspec": {
   "display_name": "Python 3",
   "language": "python",
   "name": "python3"
  },
  "language_info": {
   "codemirror_mode": {
    "name": "ipython",
    "version": 3
   },
   "file_extension": ".py",
   "mimetype": "text/x-python",
   "name": "python",
   "nbconvert_exporter": "python",
   "pygments_lexer": "ipython3",
   "version": "3.8.3"
  }
 },
 "nbformat": 4,
 "nbformat_minor": 4
}
